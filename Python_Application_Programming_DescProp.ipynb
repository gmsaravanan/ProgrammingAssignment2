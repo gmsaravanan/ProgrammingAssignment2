{
  "nbformat": 4,
  "nbformat_minor": 0,
  "metadata": {
    "colab": {
      "name": "Python_Application_Programming_DescProp.ipynb",
      "version": "0.3.2",
      "provenance": [],
      "collapsed_sections": [],
      "include_colab_link": true
    },
    "kernelspec": {
      "name": "python3",
      "display_name": "Python 3"
    }
  },
  "cells": [
    {
      "cell_type": "markdown",
      "metadata": {
        "id": "view-in-github",
        "colab_type": "text"
      },
      "source": [
        "<a href=\"https://colab.research.google.com/github/gmsaravanan/ProgrammingAssignment2/blob/master/Python_Application_Programming_DescProp.ipynb\" target=\"_parent\"><img src=\"https://colab.research.google.com/assets/colab-badge.svg\" alt=\"Open In Colab\"/></a>"
      ]
    },
    {
      "metadata": {
        "id": "uBg31NU1HIir",
        "colab_type": "code",
        "colab": {}
      },
      "cell_type": "code",
      "source": [
        "class EmpNameDescriptor:\n",
        "  \n",
        "  def __get__(self, obj, owner):\n",
        "    return self.__empname\n",
        "  \n",
        "  def __set__(self, obj, value):\n",
        "    if not isinstance(value, str):\n",
        "      raise TypeError(\"'empname' must be a string\")\n",
        "    self.__empname = value\n",
        " \n"
      ],
      "execution_count": 0,
      "outputs": []
    },
    {
      "metadata": {
        "id": "cou1om2qIDR9",
        "colab_type": "code",
        "colab": {}
      },
      "cell_type": "code",
      "source": [
        "class EmpIdDescriptor:\n",
        "\n",
        "    def __get__(self, obj, owner):\n",
        "        return self.__empid\n",
        "\n",
        "    def __set__(self, obj, value):\n",
        "        if hasattr(obj, 'empid'):\n",
        "            raise ValueError(\"'empid' is read only attribute\")\n",
        "        if not isinstance(value, int):\n",
        "            raise TypeError(\"'empid' must be an integer.\")\n",
        "        self.__empid = value"
      ],
      "execution_count": 0,
      "outputs": []
    },
    {
      "metadata": {
        "id": "xGiIpe6KLujy",
        "colab_type": "code",
        "colab": {}
      },
      "cell_type": "code",
      "source": [
        "class Employee:\n",
        "  \n",
        "  empID = EmpIdDescriptor()\n",
        "  empName = EmpNameDescriptor()\n",
        "  \n",
        "  def __init__(self, empID, empName):\n",
        "    self.empID = empID\n",
        "    self.empName = empName\n",
        "\n"
      ],
      "execution_count": 0,
      "outputs": []
    },
    {
      "metadata": {
        "id": "iUKDWn9VMl7t",
        "colab_type": "code",
        "colab": {
          "base_uri": "https://localhost:8080/",
          "height": 34
        },
        "outputId": "9fab58e1-5955-4deb-b3f9-e9cb4adec572"
      },
      "cell_type": "code",
      "source": [
        "e1 = Employee(1,'Nathan')\n",
        "print(e1.empID,e1.empName)\n",
        "\n",
        "#Type Error\n",
        "#e2 = Employee('rt','Nathan')\n",
        "#print(e2.empID,e2.empName)"
      ],
      "execution_count": 24,
      "outputs": [
        {
          "output_type": "stream",
          "text": [
            "1 Nathan\n"
          ],
          "name": "stdout"
        }
      ]
    },
    {
      "metadata": {
        "id": "B25KHTCQMsVh",
        "colab_type": "code",
        "colab": {}
      },
      "cell_type": "code",
      "source": [
        "class EmployeeP:\n",
        "\n",
        "    def __init__(self, emp_id, emp_name):\n",
        "        self.empid = emp_id\n",
        "        self.empname = emp_name\n",
        "\n",
        "    def getEmpID(self):\n",
        "        return self.__empid\n",
        "\n",
        "\n",
        "    def setEmpID(self, value):\n",
        "        if not isinstance(value, int):\n",
        "            raise TypeError(\"'empid' must be an integer.\")\n",
        "        self.__empid = value\n",
        "\n",
        "    empid = property(getEmpID, setEmpID)\n",
        "    \n",
        "    \n",
        "    def getEmpName(self):\n",
        "        return self.__empname\n",
        "\n",
        "    def setEmpName(self, value):\n",
        "        if not isinstance(value, str):\n",
        "            raise TypeError(\"empname' must be a string.\")\n",
        "        self.__empname = value\n",
        "\n",
        "    def delEmpName(self):\n",
        "        del self.__empname\n",
        "\n",
        "    empname = property(getEmpName, setEmpName, delEmpName) \n",
        "    "
      ],
      "execution_count": 0,
      "outputs": []
    },
    {
      "metadata": {
        "id": "0aqaHshJP60Q",
        "colab_type": "code",
        "colab": {
          "base_uri": "https://localhost:8080/",
          "height": 34
        },
        "outputId": "f3432480-669e-4910-eb12-50d9bb228973"
      },
      "cell_type": "code",
      "source": [
        "emp2 = EmployeeP(12,'Nathan')\n",
        "print(emp2.empid,emp2.empname)\n",
        "\n",
        "del emp2.empname\n",
        "\n",
        "#Attribute Error\n",
        "#print(emp2.empname) "
      ],
      "execution_count": 30,
      "outputs": [
        {
          "output_type": "stream",
          "text": [
            "12 Nathan\n"
          ],
          "name": "stdout"
        }
      ]
    },
    {
      "metadata": {
        "id": "krQK8HA6QeXW",
        "colab_type": "code",
        "colab": {}
      },
      "cell_type": "code",
      "source": [
        ""
      ],
      "execution_count": 0,
      "outputs": []
    }
  ]
}